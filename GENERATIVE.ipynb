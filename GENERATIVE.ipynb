{
 "cells": [
  {
   "cell_type": "code",
   "execution_count": 1,
   "metadata": {},
   "outputs": [],
   "source": [
    "# Python program to convert\n",
    "# numpy array to image\n",
    "\n",
    "# import required libraries\n",
    "import numpy as np\n",
    "from PIL import Image as im\n",
    "\n",
    "# define a main function\n",
    "def main():\n",
    "\n",
    "\t# create a numpy array from scratch\n",
    "\t# using arange function.\n",
    "\t# 1024x720 = 737280 is the amount\n",
    "\t# of pixels.\n",
    "\t# np.uint8 is a data type containing\n",
    "\t# numbers ranging from 0 to 255\n",
    "\t# and no non-negative integers\n",
    "\tarray = np.arange(0, 737280, 1, np.uint8)\n",
    "\t\n",
    "\t# check type of array\n",
    "\tprint(type(array))\n",
    "\t\n",
    "\t# our array will be of width\n",
    "\t# 737280 pixels That means it\n",
    "\t# will be a long dark line\n",
    "\tprint(array.shape)\n",
    "\t\n",
    "\t# Reshape the array into a\n",
    "\t# familiar resoluition\n",
    "\tarray = np.reshape(array, (1024, 720))\n",
    "\t\n",
    "\t# show the shape of the array\n",
    "\tprint(array.shape)\n",
    "\n",
    "\t# show the array\n",
    "\tprint(array)\n",
    "\t\n",
    "\t# creating image object of\n",
    "\t# above array\n",
    "\tdata = im.fromarray(array)\n",
    "\t\n",
    "\t# saving the final output\n",
    "\t# as a PNG file\n",
    "\tdata.save('gfg_dummy_pic.png')"
   ]
  },
  {
   "cell_type": "code",
   "execution_count": 3,
   "metadata": {},
   "outputs": [
    {
     "name": "stdout",
     "output_type": "stream",
     "text": [
      "<class 'numpy.ndarray'>\n",
      "(737280,)\n",
      "(1024, 720)\n",
      "[[  0   1   2 ... 205 206 207]\n",
      " [208 209 210 ... 157 158 159]\n",
      " [160 161 162 ... 109 110 111]\n",
      " ...\n",
      " [144 145 146 ...  93  94  95]\n",
      " [ 96  97  98 ...  45  46  47]\n",
      " [ 48  49  50 ... 253 254 255]]\n"
     ]
    }
   ],
   "source": [
    "main()"
   ]
  },
  {
   "cell_type": "code",
   "execution_count": 8,
   "metadata": {},
   "outputs": [],
   "source": [
    "nen = im.open('4.jpeg')"
   ]
  },
  {
   "cell_type": "code",
   "execution_count": 9,
   "metadata": {},
   "outputs": [],
   "source": [
    "nen_array = np.asarray(nen, dtype='float32')"
   ]
  },
  {
   "cell_type": "code",
   "execution_count": 10,
   "metadata": {},
   "outputs": [],
   "source": [
    "norm = np.linalg.norm(nen_array)"
   ]
  },
  {
   "cell_type": "code",
   "execution_count": 11,
   "metadata": {},
   "outputs": [],
   "source": [
    "nen_array = nen_array/norm"
   ]
  },
  {
   "cell_type": "code",
   "execution_count": 13,
   "metadata": {},
   "outputs": [
    {
     "data": {
      "text/plain": [
       "array([3.5570294e-05, 6.0469500e-04, 7.9871475e-04], dtype=float32)"
      ]
     },
     "execution_count": 13,
     "metadata": {},
     "output_type": "execute_result"
    }
   ],
   "source": [
    "nen_array[0][0]"
   ]
  },
  {
   "cell_type": "code",
   "execution_count": 14,
   "metadata": {},
   "outputs": [],
   "source": [
    "for x in range(len(nen_array)):\n",
    "    for y in range(len(nen_array[x])):\n",
    "        for z in range(3):\n",
    "            \n",
    "            if nen_array[x][y][z]%2 == 0:\n",
    "                nen_array[x][y][z] = nen_array[x][y][z]/4\n",
    "            else:\n",
    "                nen_array[x][y][z] = ((6*nen_array[x][y][z])+1)"
   ]
  },
  {
   "cell_type": "code",
   "execution_count": 15,
   "metadata": {},
   "outputs": [],
   "source": [
    "nen_array = np.reshape(nen_array,(2160,1280))"
   ]
  },
  {
   "cell_type": "code",
   "execution_count": 16,
   "metadata": {},
   "outputs": [],
   "source": [
    "import matplotlib.pyplot as plt\n",
    "\n"
   ]
  },
  {
   "cell_type": "code",
   "execution_count": 36,
   "metadata": {},
   "outputs": [],
   "source": [
    "nen_array = (nen_array * 255).astype(np.uint8,'K')\n",
    "data = im.fromarray(np.uint8(plt.cm.gist_earth(nen_array)*255))"
   ]
  },
  {
   "cell_type": "code",
   "execution_count": 42,
   "metadata": {
    "scrolled": false
   },
   "outputs": [],
   "source": [
    "data.save('nen123.png')"
   ]
  },
  {
   "cell_type": "code",
   "execution_count": 44,
   "metadata": {},
   "outputs": [],
   "source": [
    "plt.imsave('yay123.png', nen_array, cmap='Greys')"
   ]
  },
  {
   "cell_type": "code",
   "execution_count": null,
   "metadata": {},
   "outputs": [],
   "source": []
  }
 ],
 "metadata": {
  "kernelspec": {
   "display_name": "Python 3",
   "language": "python",
   "name": "python3"
  },
  "language_info": {
   "codemirror_mode": {
    "name": "ipython",
    "version": 3
   },
   "file_extension": ".py",
   "mimetype": "text/x-python",
   "name": "python",
   "nbconvert_exporter": "python",
   "pygments_lexer": "ipython3",
   "version": "3.8.3"
  }
 },
 "nbformat": 4,
 "nbformat_minor": 4
}
